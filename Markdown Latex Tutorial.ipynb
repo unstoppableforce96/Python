{
 "cells": [
  {
   "cell_type": "markdown",
   "id": "fd69c704",
   "metadata": {},
   "source": [
    "To insert a mathematical formula we use the dollar symbol $, as follows:\n",
    "\n",
    "Euler's identity: $ e^{i \\pi} + 1 = 0 $\n",
    "\n",
    "To isolate and center the formulas and enter in math display mode, we use 2 dollars symbol:\n",
    "$$\n",
    "...\n",
    "$$\n",
    "\n",
    "\n",
    "Euler's identity: $$ e^{i \\pi} + 1 = 0 $$"
   ]
  },
  {
   "cell_type": "markdown",
   "id": "39d4de86",
   "metadata": {},
   "source": [
    "$$\\\\\n",
    "\\frac{arg 1}{arg 2}\\\\\n",
    "x^2\\\\\n",
    "e^{i\\pi}\\\\ \n",
    "A_i\\\\\n",
    "B_{ij} \\\\\n",
    "\\sqrt[n]{arg}\\\\\n",
    "$$"
   ]
  },
  {
   "cell_type": "markdown",
   "id": "5c7c6f4e",
   "metadata": {},
   "source": [
    "Given : $\\pi = 3.14$ , $\\alpha = \\frac{3\\pi}{4}\\, rad$\n",
    "$$\n",
    "\\omega = 2\\pi f \\\\\n",
    "f = \\frac{c}{\\lambda}\\\\\n",
    "\\lambda_0=\\theta^2+\\delta\\\\\n",
    "\\Delta\\lambda = \\frac{1}{\\lambda^2}\\\\\n",
    "$$"
   ]
  },
  {
   "cell_type": "markdown",
   "id": "e9bf2b63",
   "metadata": {},
   "source": [
    "$$\n",
    "\\sin(-\\alpha)=-\\sin(\\alpha)\\\\\n",
    "\\arccos(x)=\\arcsin(u)\\\\\n",
    "\\log_n(n)=1\\\\\n",
    "\\tan\\theta = \\frac{\\sin\\theta}{\\cos\\theta}\n",
    "$$"
   ]
  },
  {
   "cell_type": "markdown",
   "id": "d38163c3",
   "metadata": {},
   "source": [
    "<div class=\"alert alert-block alert-success\">\n",
    "    \n",
    "\\# Other Symbols<br>\n",
    "\\## Angles:  \n",
    "Left angle : $\\langle$\n",
    "\n",
    "Right angle : $\\rangle$\n",
    "\n",
    "Angle between two vectors u and v\t: $\\langle \\vec{u},\\vec{v}\\rangle$\t\n",
    "\n",
    "$$ \\vec{AB} \\, \\cdot \\, \\vec{CD} =0  \\Rightarrow  \\vec{AB} \\, \\perp\\, \\vec{CD}$$\n",
    "\n",
    "##Sets and logic\n",
    "$$\\mathbb{N} \\subset \\mathbb{Z} \\subset \\mathbb{D} \\subset \\mathbb{Q} \\subset \\mathbb{R} \\subset \\mathbb{C}$$\n",
    "    \n",
    "</div>"
   ]
  },
  {
   "cell_type": "markdown",
   "id": "3a3bec3d",
   "metadata": {},
   "source": [
    "<div class=\"alert alert-block alert-info\">\n",
    "Schrodinger's Equation:  \n",
    "$$ \\frac{{\\partial}^2x}{\\partial x^2} + \\frac{{\\partial}^2y}{\\partial y^2} + \\frac{{\\partial}^2z}{\\partial z^2} = 0 $$\n",
    "</div>"
   ]
  },
  {
   "cell_type": "markdown",
   "id": "3c22b73b",
   "metadata": {},
   "source": [
    "$$\n",
    "sign(x) = \\left\\{\n",
    "    \\begin{array}\\\\\n",
    "        1 & \\mbox{if } \\ x \\in \\mathbf{N}^* \\\\\n",
    "        0 & \\mbox{if } \\ x = 0 \\\\\n",
    "        -1 & \\mbox{else.}\n",
    "    \\end{array}\n",
    "\\right.\n",
    "$$\n",
    "\n",
    "\\\\\n",
    "\n",
    "$$\n",
    " \\left.\n",
    "    \\begin{array} \\\\\n",
    "        \\alpha^2 = \\sqrt5 \\\\\n",
    "        \\alpha \\geq 0 \n",
    "    \\end{array}\n",
    "\\right \\}=\\alpha = 5 \n",
    "$$"
   ]
  },
  {
   "cell_type": "markdown",
   "id": "56ccdaef",
   "metadata": {},
   "source": [
    "$$\n",
    "\\underbrace{\\ln \\left( \\frac{5}{6} \\right)}_{\\simeq -0.1823}\n",
    "< \\overbrace{\\exp (2)}^{\\simeq 7.3890}\n",
    "$$"
   ]
  },
  {
   "cell_type": "markdown",
   "id": "a9d72c4b",
   "metadata": {},
   "source": [
    "First order derivative : $$f'(x)$$ \n",
    "K-th order derivative  : $$f^{(k)}(x)$$\n",
    "Partial firt order deivative\t: $$\\frac{\\partial f}{\\partial x}$$\n",
    "Partial k-th order derivative\t: $$\\frac{\\partial^{k} f}{\\partial x^k}$$"
   ]
  },
  {
   "cell_type": "markdown",
   "id": "e9f7ebfb",
   "metadata": {},
   "source": [
    "#limit\n",
    "Limit at plus infinity\t: $$\\lim_{x \\to +\\infty} f(x)$$ \n",
    "Limit at minus infinity\t: $$\\lim_{x \\to -\\infty} f(x)$$\t\n",
    "Limit at $\\alpha$  : $$\\lim_{x \\to \\alpha} f(x)$$\n",
    "\n",
    "Max : $$\\max_{x \\in [a,b]}f(x)$$\t\n",
    "Min : $$\\min_{x \\in [\\alpha,\\beta]}f(x)$$\t\n",
    "Sup : $$\\sup_{x \\in \\mathbb{R}}f(x)$$\t\n",
    "Inf : $$\\inf_{x > s}f(x)$$"
   ]
  },
  {
   "cell_type": "markdown",
   "id": "d40c10ba",
   "metadata": {},
   "source": [
    "Sum from 0 to +inf:\n",
    "\n",
    "$$\\sum_{j=0}^{+\\infty} A_{j}$$\n",
    "\n",
    "Double sum:\n",
    "$$\\sum^k_{i=1}\\sum^{l+1}_{j=1}\\,A_i A_j$$\t\n",
    "\n",
    "\n",
    "Taylor expansion of $e^x$:\n",
    "$$ e^x  = \\sum_{k=0}^{n}\\, \\frac{x^k}{k!} + o(x^n) $$ "
   ]
  },
  {
   "cell_type": "markdown",
   "id": "bbdd8485",
   "metadata": {},
   "source": [
    "Product:\n",
    "$$\\prod_{j=1}^k A_{\\alpha_j}$$\n",
    "Double product:\n",
    "$$\\prod^k_{i=1}\\prod^l_{j=1}\\,A_i A_j$$\t"
   ]
  },
  {
   "cell_type": "markdown",
   "id": "7ff1fbf1",
   "metadata": {},
   "source": [
    "Simple integral:\n",
    "$$\\int_{a}^b f(x)dx$$\n",
    "\n",
    "Double integral:\n",
    "$$\\int_{a}^b\\int_{c}^d f(x,y)\\,dxdy$$\t\n",
    "\n",
    "Triple integral:\n",
    "$$\\iiint$$\t\n",
    "\n",
    "Quadruple integral:\n",
    "$$\\iiiint$$\t\n",
    "\n",
    "Multiple integral :\n",
    "$$\\idotsint$$\n",
    "\n",
    "Contour integral:\n",
    "$$\\oint$$"
   ]
  },
  {
   "cell_type": "markdown",
   "id": "72f2b52f",
   "metadata": {},
   "source": [
    "Plain:\n",
    "\n",
    "$\\begin{matrix}\n",
    "1 & 2 & 3\\\\\n",
    "a & b & c\n",
    "\\end{matrix}$\n",
    "\n",
    "Round brackets:\n",
    "$\\begin{pmatrix}\n",
    "1 & 2 & 3\\\\\n",
    "a & b & c\n",
    "\\end{pmatrix}$\n",
    "\n",
    "Curly brackets:\n",
    "$\\begin{Bmatrix}\n",
    "1 & 2 & 3\\\\\n",
    "a & b & c\n",
    "\\end{Bmatrix}$\n",
    "\n",
    "Pipes:\n",
    "$\\begin{vmatrix}\n",
    "1 & 2 & 3\\\\\n",
    "a & b & c\n",
    "\\end{vmatrix}$\n",
    "\n",
    "Double pipes\n",
    "$\\begin{Vmatrix}\n",
    "1 & 2 & 3\\\\\n",
    "a & b & c m\n",
    "\\end{Vmatrix}$"
   ]
  },
  {
   "cell_type": "code",
   "execution_count": 57,
   "id": "bc55cda5",
   "metadata": {},
   "outputs": [
    {
     "name": "stdout",
     "output_type": "stream",
     "text": [
      "hello world <class 'str'>\n",
      "hello world <class 'str'>\n"
     ]
    }
   ],
   "source": [
    "normal_string = 'hello world'\n",
    "f_string = f'hello world'\n",
    "print(normal_string, type(normal_string))\n",
    "print(f_string, type(f_string))"
   ]
  },
  {
   "cell_type": "code",
   "execution_count": 59,
   "id": "86902825",
   "metadata": {},
   "outputs": [
    {
     "name": "stdout",
     "output_type": "stream",
     "text": [
      "Sum of a and b is a+b\n",
      "Sum of 10 and 20 is 30\n"
     ]
    }
   ],
   "source": [
    "a = 10\n",
    "b = 20\n",
    "normal_string = 'Sum of a and b is a+b'\n",
    "f_string = f'Sum of {a} and {b} is {a+b}'\n",
    "print(normal_string)\n",
    "print(f_string)"
   ]
  },
  {
   "cell_type": "code",
   "execution_count": 63,
   "id": "cdd268cd",
   "metadata": {},
   "outputs": [
    {
     "name": "stdout",
     "output_type": "stream",
     "text": [
      "I am John my employee id is 1234 , I work for Google and earn 100000 per month.\n",
      "I am John my employee id is 1234, I work for Google and earn 100000 per month\n"
     ]
    }
   ],
   "source": [
    "# Output should be like this\n",
    "# I am John my employee id is 1234, I work for Google and earn 100000 per month\n",
    "ID = 1234\n",
    "NAME = 'John'\n",
    "ORG = 'Google'\n",
    "SAL = 100000\n",
    "print('I am', NAME, 'my employee id is', ID, ', I work for', ORG, 'and earn', SAL, 'per month.')\n",
    "print(f'I am {NAME} my employee id is {ID}, I work for {ORG} and earn {SAL} per month')"
   ]
  },
  {
   "cell_type": "code",
   "execution_count": 68,
   "id": "03d460d9",
   "metadata": {},
   "outputs": [
    {
     "name": "stdout",
     "output_type": "stream",
     "text": [
      "Enter something: 123.24\n",
      "User entered:-  123.24\n",
      "<class 'str'>\n"
     ]
    }
   ],
   "source": [
    "something = input(\"Enter something: \")\n",
    "print(\"User entered:- \", something)\n",
    "print(type(something))"
   ]
  },
  {
   "cell_type": "code",
   "execution_count": 69,
   "id": "7defa558",
   "metadata": {},
   "outputs": [
    {
     "data": {
      "text/plain": [
       "'123.24'"
      ]
     },
     "execution_count": 69,
     "metadata": {},
     "output_type": "execute_result"
    }
   ],
   "source": [
    "something"
   ]
  },
  {
   "cell_type": "code",
   "execution_count": 70,
   "id": "ad7101cf",
   "metadata": {},
   "outputs": [
    {
     "name": "stdout",
     "output_type": "stream",
     "text": [
      "10\n"
     ]
    }
   ],
   "source": [
    "num1 = 10\n",
    "NUM1 = 20\n",
    "print(num1)"
   ]
  },
  {
   "cell_type": "markdown",
   "id": "0b56a089",
   "metadata": {},
   "source": [
    "```c\n",
    "#include <stdio.h>\n",
    "int main()\n",
    "{\n",
    "    printf(\"Hello World!\");\n",
    "    return 0;\n",
    "}\n",
    "```"
   ]
  },
  {
   "cell_type": "markdown",
   "id": "d3cf21dd",
   "metadata": {},
   "source": [
    "**Area of a Square:** $ side \\times side $  \n",
    "**Perimeter of a Square:** $ 4 \\times side $"
   ]
  },
  {
   "cell_type": "markdown",
   "id": "4e7df8eb",
   "metadata": {},
   "source": [
    "$$ \\left( \\frac{\\sin^2\\theta}{\\cos^2\\theta} \\right) = \\tan^2\\theta  $$"
   ]
  },
  {
   "cell_type": "code",
   "execution_count": 1,
   "id": "c5f815a4",
   "metadata": {},
   "outputs": [
    {
     "name": "stdout",
     "output_type": "stream",
     "text": [
      "Help on built-in module math:\n",
      "\n",
      "NAME\n",
      "    math\n",
      "\n",
      "DESCRIPTION\n",
      "    This module provides access to the mathematical functions\n",
      "    defined by the C standard.\n",
      "\n",
      "FUNCTIONS\n",
      "    acos(x, /)\n",
      "        Return the arc cosine (measured in radians) of x.\n",
      "        \n",
      "        The result is between 0 and pi.\n",
      "    \n",
      "    acosh(x, /)\n",
      "        Return the inverse hyperbolic cosine of x.\n",
      "    \n",
      "    asin(x, /)\n",
      "        Return the arc sine (measured in radians) of x.\n",
      "        \n",
      "        The result is between -pi/2 and pi/2.\n",
      "    \n",
      "    asinh(x, /)\n",
      "        Return the inverse hyperbolic sine of x.\n",
      "    \n",
      "    atan(x, /)\n",
      "        Return the arc tangent (measured in radians) of x.\n",
      "        \n",
      "        The result is between -pi/2 and pi/2.\n",
      "    \n",
      "    atan2(y, x, /)\n",
      "        Return the arc tangent (measured in radians) of y/x.\n",
      "        \n",
      "        Unlike atan(y/x), the signs of both x and y are considered.\n",
      "    \n",
      "    atanh(x, /)\n",
      "        Return the inverse hyperbolic tangent of x.\n",
      "    \n",
      "    ceil(x, /)\n",
      "        Return the ceiling of x as an Integral.\n",
      "        \n",
      "        This is the smallest integer >= x.\n",
      "    \n",
      "    comb(n, k, /)\n",
      "        Number of ways to choose k items from n items without repetition and without order.\n",
      "        \n",
      "        Evaluates to n! / (k! * (n - k)!) when k <= n and evaluates\n",
      "        to zero when k > n.\n",
      "        \n",
      "        Also called the binomial coefficient because it is equivalent\n",
      "        to the coefficient of k-th term in polynomial expansion of the\n",
      "        expression (1 + x)**n.\n",
      "        \n",
      "        Raises TypeError if either of the arguments are not integers.\n",
      "        Raises ValueError if either of the arguments are negative.\n",
      "    \n",
      "    copysign(x, y, /)\n",
      "        Return a float with the magnitude (absolute value) of x but the sign of y.\n",
      "        \n",
      "        On platforms that support signed zeros, copysign(1.0, -0.0)\n",
      "        returns -1.0.\n",
      "    \n",
      "    cos(x, /)\n",
      "        Return the cosine of x (measured in radians).\n",
      "    \n",
      "    cosh(x, /)\n",
      "        Return the hyperbolic cosine of x.\n",
      "    \n",
      "    degrees(x, /)\n",
      "        Convert angle x from radians to degrees.\n",
      "    \n",
      "    dist(p, q, /)\n",
      "        Return the Euclidean distance between two points p and q.\n",
      "        \n",
      "        The points should be specified as sequences (or iterables) of\n",
      "        coordinates.  Both inputs must have the same dimension.\n",
      "        \n",
      "        Roughly equivalent to:\n",
      "            sqrt(sum((px - qx) ** 2.0 for px, qx in zip(p, q)))\n",
      "    \n",
      "    erf(x, /)\n",
      "        Error function at x.\n",
      "    \n",
      "    erfc(x, /)\n",
      "        Complementary error function at x.\n",
      "    \n",
      "    exp(x, /)\n",
      "        Return e raised to the power of x.\n",
      "    \n",
      "    expm1(x, /)\n",
      "        Return exp(x)-1.\n",
      "        \n",
      "        This function avoids the loss of precision involved in the direct evaluation of exp(x)-1 for small x.\n",
      "    \n",
      "    fabs(x, /)\n",
      "        Return the absolute value of the float x.\n",
      "    \n",
      "    factorial(x, /)\n",
      "        Find x!.\n",
      "        \n",
      "        Raise a ValueError if x is negative or non-integral.\n",
      "    \n",
      "    floor(x, /)\n",
      "        Return the floor of x as an Integral.\n",
      "        \n",
      "        This is the largest integer <= x.\n",
      "    \n",
      "    fmod(x, y, /)\n",
      "        Return fmod(x, y), according to platform C.\n",
      "        \n",
      "        x % y may differ.\n",
      "    \n",
      "    frexp(x, /)\n",
      "        Return the mantissa and exponent of x, as pair (m, e).\n",
      "        \n",
      "        m is a float and e is an int, such that x = m * 2.**e.\n",
      "        If x is 0, m and e are both 0.  Else 0.5 <= abs(m) < 1.0.\n",
      "    \n",
      "    fsum(seq, /)\n",
      "        Return an accurate floating point sum of values in the iterable seq.\n",
      "        \n",
      "        Assumes IEEE-754 floating point arithmetic.\n",
      "    \n",
      "    gamma(x, /)\n",
      "        Gamma function at x.\n",
      "    \n",
      "    gcd(*integers)\n",
      "        Greatest Common Divisor.\n",
      "    \n",
      "    hypot(...)\n",
      "        hypot(*coordinates) -> value\n",
      "        \n",
      "        Multidimensional Euclidean distance from the origin to a point.\n",
      "        \n",
      "        Roughly equivalent to:\n",
      "            sqrt(sum(x**2 for x in coordinates))\n",
      "        \n",
      "        For a two dimensional point (x, y), gives the hypotenuse\n",
      "        using the Pythagorean theorem:  sqrt(x*x + y*y).\n",
      "        \n",
      "        For example, the hypotenuse of a 3/4/5 right triangle is:\n",
      "        \n",
      "            >>> hypot(3.0, 4.0)\n",
      "            5.0\n",
      "    \n",
      "    isclose(a, b, *, rel_tol=1e-09, abs_tol=0.0)\n",
      "        Determine whether two floating point numbers are close in value.\n",
      "        \n",
      "          rel_tol\n",
      "            maximum difference for being considered \"close\", relative to the\n",
      "            magnitude of the input values\n",
      "          abs_tol\n",
      "            maximum difference for being considered \"close\", regardless of the\n",
      "            magnitude of the input values\n",
      "        \n",
      "        Return True if a is close in value to b, and False otherwise.\n",
      "        \n",
      "        For the values to be considered close, the difference between them\n",
      "        must be smaller than at least one of the tolerances.\n",
      "        \n",
      "        -inf, inf and NaN behave similarly to the IEEE 754 Standard.  That\n",
      "        is, NaN is not close to anything, even itself.  inf and -inf are\n",
      "        only close to themselves.\n",
      "    \n",
      "    isfinite(x, /)\n",
      "        Return True if x is neither an infinity nor a NaN, and False otherwise.\n",
      "    \n",
      "    isinf(x, /)\n",
      "        Return True if x is a positive or negative infinity, and False otherwise.\n",
      "    \n",
      "    isnan(x, /)\n",
      "        Return True if x is a NaN (not a number), and False otherwise.\n",
      "    \n",
      "    isqrt(n, /)\n",
      "        Return the integer part of the square root of the input.\n",
      "    \n",
      "    lcm(*integers)\n",
      "        Least Common Multiple.\n",
      "    \n",
      "    ldexp(x, i, /)\n",
      "        Return x * (2**i).\n",
      "        \n",
      "        This is essentially the inverse of frexp().\n",
      "    \n",
      "    lgamma(x, /)\n",
      "        Natural logarithm of absolute value of Gamma function at x.\n",
      "    \n",
      "    log(...)\n",
      "        log(x, [base=math.e])\n",
      "        Return the logarithm of x to the given base.\n",
      "        \n",
      "        If the base not specified, returns the natural logarithm (base e) of x.\n",
      "    \n",
      "    log10(x, /)\n",
      "        Return the base 10 logarithm of x.\n",
      "    \n",
      "    log1p(x, /)\n",
      "        Return the natural logarithm of 1+x (base e).\n",
      "        \n",
      "        The result is computed in a way which is accurate for x near zero.\n",
      "    \n",
      "    log2(x, /)\n",
      "        Return the base 2 logarithm of x.\n",
      "    \n",
      "    modf(x, /)\n",
      "        Return the fractional and integer parts of x.\n",
      "        \n",
      "        Both results carry the sign of x and are floats.\n",
      "    \n",
      "    nextafter(x, y, /)\n",
      "        Return the next floating-point value after x towards y.\n",
      "    \n",
      "    perm(n, k=None, /)\n",
      "        Number of ways to choose k items from n items without repetition and with order.\n",
      "        \n",
      "        Evaluates to n! / (n - k)! when k <= n and evaluates\n",
      "        to zero when k > n.\n",
      "        \n",
      "        If k is not specified or is None, then k defaults to n\n",
      "        and the function returns n!.\n",
      "        \n",
      "        Raises TypeError if either of the arguments are not integers.\n",
      "        Raises ValueError if either of the arguments are negative.\n",
      "    \n",
      "    pow(x, y, /)\n",
      "        Return x**y (x to the power of y).\n",
      "    \n",
      "    prod(iterable, /, *, start=1)\n",
      "        Calculate the product of all the elements in the input iterable.\n",
      "        \n",
      "        The default start value for the product is 1.\n",
      "        \n",
      "        When the iterable is empty, return the start value.  This function is\n",
      "        intended specifically for use with numeric values and may reject\n",
      "        non-numeric types.\n",
      "    \n",
      "    radians(x, /)\n",
      "        Convert angle x from degrees to radians.\n",
      "    \n",
      "    remainder(x, y, /)\n",
      "        Difference between x and the closest integer multiple of y.\n",
      "        \n",
      "        Return x - n*y where n*y is the closest integer multiple of y.\n",
      "        In the case where x is exactly halfway between two multiples of\n",
      "        y, the nearest even value of n is used. The result is always exact.\n",
      "    \n",
      "    sin(x, /)\n",
      "        Return the sine of x (measured in radians).\n",
      "    \n",
      "    sinh(x, /)\n",
      "        Return the hyperbolic sine of x.\n",
      "    \n",
      "    sqrt(x, /)\n",
      "        Return the square root of x.\n",
      "    \n",
      "    tan(x, /)\n",
      "        Return the tangent of x (measured in radians).\n",
      "    \n",
      "    tanh(x, /)\n",
      "        Return the hyperbolic tangent of x.\n",
      "    \n",
      "    trunc(x, /)\n",
      "        Truncates the Real x to the nearest Integral toward 0.\n",
      "        \n",
      "        Uses the __trunc__ magic method.\n",
      "    \n",
      "    ulp(x, /)\n",
      "        Return the value of the least significant bit of the float x.\n",
      "\n",
      "DATA\n",
      "    e = 2.718281828459045\n",
      "    inf = inf\n",
      "    nan = nan\n",
      "    pi = 3.141592653589793\n",
      "    tau = 6.283185307179586\n",
      "\n",
      "FILE\n",
      "    (built-in)\n",
      "\n",
      "\n"
     ]
    }
   ],
   "source": [
    "help(\"math\")"
   ]
  },
  {
   "cell_type": "markdown",
   "id": "aaaa7de4",
   "metadata": {},
   "source": [
    "<div class=\"alert alert-block alert-info\">\n",
    "    <b> Binet's Formula </b>  \n",
    "    $$ f(n) = \\frac{(1+\\sqrt{5})^n-(1-\\sqrt{5})^n}{2^n\\sqrt{5}} $$\n",
    "</div>"
   ]
  },
  {
   "cell_type": "code",
   "execution_count": 4,
   "id": "7d15cc0c",
   "metadata": {},
   "outputs": [
    {
     "name": "stdout",
     "output_type": "stream",
     "text": [
      "1\n",
      "5.000000000000001\n"
     ]
    }
   ],
   "source": [
    "import math\n",
    "def binet(n):\n",
    "    return ((1+math.sqrt(5))**n - (1-math.sqrt(5))**n)/(2**n)*math.sqrt(5)\n",
    "n = int(input())\n",
    "print(binet(n))\n"
   ]
  },
  {
   "cell_type": "markdown",
   "id": "9faa029b",
   "metadata": {},
   "source": [
    "<div class=\"alert alert-block alert-info\">\n",
    "    <b> Logarithm </b>  \n",
    "    $$ \\log_k\\left(\\frac{a}{b} \\right) = \\log_k(a) - \\log_k(b) $$\n",
    "    $$ \\log_u(x) = \\frac{\\log_k(x)}{\\log_k(u)} $$\n",
    "    $$ \\prod_{x=1}^{n} x = 1\\cdot2\\cdot3\\cdot ... \\cdot n $$\n",
    "    $$ X = \\{2n:n\\in\\mathbb{Z}\\} $$\n",
    "</div>"
   ]
  },
  {
   "cell_type": "markdown",
   "id": "5547e7c3",
   "metadata": {},
   "source": [
    "$$ \\left( \\frac {\\sin^2\\theta}{\\cos^2\\theta} \\right) = \\tan^2\\theta $$"
   ]
  },
  {
   "cell_type": "markdown",
   "id": "ca9bdbc0",
   "metadata": {},
   "source": [
    "$$ \n",
    "  a_0+\\cfrac{1}{a_1+\\cfrac{1}{a_2+\\cfrac{1}{a_3+\\cdots}}}\n",
    "$$"
   ]
  },
  {
   "cell_type": "markdown",
   "id": "be81d36e",
   "metadata": {},
   "source": [
    "$$\n",
    "\\frac{1+\\frac{a}{b}}{1+\\frac{1}{1+\\frac{1}{a}}}\n",
    "$$"
   ]
  },
  {
   "cell_type": "code",
   "execution_count": null,
   "id": "899ee2c1",
   "metadata": {},
   "outputs": [],
   "source": []
  },
  {
   "cell_type": "markdown",
   "id": "5c338096",
   "metadata": {},
   "source": [
    "\\begin{equation}\n",
    "  e^x = \\sum_{j=0}^{\\infty} \\frac{1}{j!} x^j\n",
    "\\end{equation}"
   ]
  },
  {
   "cell_type": "markdown",
   "id": "3506d41b",
   "metadata": {},
   "source": [
    "$$ e^x = \\sum_{j=0}^{\\infty}\\frac{1}{j!}x^j $$"
   ]
  },
  {
   "cell_type": "markdown",
   "id": "5c79da64",
   "metadata": {},
   "source": [
    "$$ \\left( \\frac{\\sin^2\\theta}{\\cos^2\\theta} \\right) = \\tan^2\\theta $$"
   ]
  },
  {
   "cell_type": "code",
   "execution_count": null,
   "id": "228fa244",
   "metadata": {},
   "outputs": [],
   "source": []
  },
  {
   "cell_type": "code",
   "execution_count": null,
   "id": "46f40b4a",
   "metadata": {},
   "outputs": [],
   "source": []
  },
  {
   "cell_type": "code",
   "execution_count": null,
   "id": "a33b8df9",
   "metadata": {},
   "outputs": [],
   "source": []
  },
  {
   "cell_type": "code",
   "execution_count": null,
   "id": "1cdc459b",
   "metadata": {},
   "outputs": [],
   "source": []
  }
 ],
 "metadata": {
  "kernelspec": {
   "display_name": "Python 3 (ipykernel)",
   "language": "python",
   "name": "python3"
  },
  "language_info": {
   "codemirror_mode": {
    "name": "ipython",
    "version": 3
   },
   "file_extension": ".py",
   "mimetype": "text/x-python",
   "name": "python",
   "nbconvert_exporter": "python",
   "pygments_lexer": "ipython3",
   "version": "3.12.1"
  },
  "latex_envs": {
   "LaTeX_envs_menu_present": true,
   "autoclose": false,
   "autocomplete": true,
   "bibliofile": "biblio.bib",
   "cite_by": "apalike",
   "current_citInitial": 1,
   "eqLabelWithNumbers": false,
   "eqNumInitial": 1,
   "hotkeys": {
    "equation": "Ctrl-E",
    "itemize": "Ctrl-I"
   },
   "labels_anchors": false,
   "latex_user_defs": false,
   "report_style_numbering": false,
   "user_envs_cfg": false
  },
  "toc": {
   "base_numbering": 1,
   "nav_menu": {},
   "number_sections": true,
   "sideBar": true,
   "skip_h1_title": false,
   "title_cell": "Table of Contents",
   "title_sidebar": "Contents",
   "toc_cell": false,
   "toc_position": {},
   "toc_section_display": true,
   "toc_window_display": false
  }
 },
 "nbformat": 4,
 "nbformat_minor": 5
}
