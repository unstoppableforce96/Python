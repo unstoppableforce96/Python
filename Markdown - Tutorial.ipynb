{
 "cells": [
  {
   "cell_type": "markdown",
   "id": "a13125f8",
   "metadata": {},
   "source": [
    "# print() function"
   ]
  },
  {
   "cell_type": "markdown",
   "id": "ac3f49c8",
   "metadata": {},
   "source": [
    "<h2> printing single values in print function </h2>"
   ]
  },
  {
   "cell_type": "code",
   "execution_count": 19,
   "id": "3cfd6248",
   "metadata": {},
   "outputs": [
    {
     "name": "stdout",
     "output_type": "stream",
     "text": [
      "Hello\n"
     ]
    }
   ],
   "source": [
    "print('Hello')"
   ]
  },
  {
   "cell_type": "code",
   "execution_count": 4,
   "id": "e857c8eb",
   "metadata": {},
   "outputs": [
    {
     "name": "stdout",
     "output_type": "stream",
     "text": [
      "10\n"
     ]
    }
   ],
   "source": [
    "print(10)"
   ]
  },
  {
   "cell_type": "code",
   "execution_count": 3,
   "id": "1d3800a8",
   "metadata": {},
   "outputs": [
    {
     "name": "stdout",
     "output_type": "stream",
     "text": [
      "10.2345\n"
     ]
    }
   ],
   "source": [
    "print(10.2345)"
   ]
  },
  {
   "cell_type": "code",
   "execution_count": null,
   "id": "d45a9678",
   "metadata": {},
   "outputs": [],
   "source": [
    "print()"
   ]
  },
  {
   "cell_type": "markdown",
   "id": "33f26f13",
   "metadata": {},
   "source": [
    "``` x = 5\n",
    "s = 'this is a string' ```"
   ]
  },
  {
   "cell_type": "markdown",
   "id": "62eb32d0",
   "metadata": {},
   "source": [
    "<b> This is bold text </b>\n",
    "\n",
    "__This is bold text__\n",
    "\n",
    "**This is bold text**"
   ]
  },
  {
   "cell_type": "markdown",
   "id": "a69d3f17",
   "metadata": {},
   "source": [
    "<i> This is italic text </i>\n",
    "\n",
    "_This is italic text_\n",
    "\n",
    "*This is italic text*"
   ]
  },
  {
   "cell_type": "markdown",
   "id": "f02ba41d",
   "metadata": {},
   "source": [
    "```python\n",
    "\n",
    "x = 10\n",
    "y = 20\n",
    "print(x + y)\n",
    "\n",
    "```"
   ]
  },
  {
   "cell_type": "code",
   "execution_count": null,
   "id": "5df2441b",
   "metadata": {},
   "outputs": [],
   "source": [
    "x = 10\n",
    "y = 20\n",
    "print(x + y)"
   ]
  },
  {
   "cell_type": "markdown",
   "id": "dd3de826",
   "metadata": {},
   "source": [
    "```c\n",
    "\n",
    "#include <stdio.h>\n",
    "int main()\n",
    "{\n",
    "    printf(\"Hello World\");\n",
    "    return 0;\n",
    "}\n",
    "\n",
    "```"
   ]
  },
  {
   "cell_type": "markdown",
   "id": "02c91890",
   "metadata": {},
   "source": [
    "```java\n",
    "\n",
    "public class markdown() {\n",
    "    public static void main(String args[]) {\n",
    "        System.out.println(\"Hello World!\");\n",
    "    }\n",
    "}\n",
    "\n",
    "```"
   ]
  },
  {
   "cell_type": "markdown",
   "id": "3ef34b91",
   "metadata": {},
   "source": [
    "# Operators in Python\n",
    "- Arithmetic Operators\n",
    "- Relational or Comparison Operators\n",
    "- Logical Operators\n",
    "- Assignment Operators\n",
    "- Membership Operators\n",
    "- Bitwise Operators"
   ]
  },
  {
   "cell_type": "markdown",
   "id": "3491e949",
   "metadata": {},
   "source": [
    "## Arithmetic Operators\n",
    "\n",
    "|S. No|Operator|Name|Type|Use|Result|Example|\n",
    "|:-|:-|:-|:-|:-|:-|:-|\n",
    "|1|**+**|Addition|Binary|To add two operands|Sum|10+20<br>20+400<br>a+b|\n",
    "|2|**-**|Subtraction|Binary|To find the difference<br>between two operands|Difference|20-10<br>35-45<br>b-a|\n",
    "|3|**\\***|Multplication|Binary|To find the product of two operands|Product|20\\*10<br>a\\*b<br>2.5\\*3.5|\n",
    "|4|**/**|Division|Bianry|To find the quotient of the division<br>operation between two operands|Quotient|a/b<br>10/2<br>11/3|\n",
    "|5|**%**|Modulo Division|Binary|To find the remainder when<br>the first operand is divided<br>by the other|Remainder|10%2<br>11%3<br>13%4|\n",
    "|6|**//**|Floor Division|Binary|To find the floored quotient<br>of two operands|Floored Quotient|10//2<br>11//3<br>a//b|"
   ]
  },
  {
   "cell_type": "code",
   "execution_count": 18,
   "id": "faf6b8b2",
   "metadata": {},
   "outputs": [
    {
     "data": {
      "text/plain": [
       "5.5"
      ]
     },
     "execution_count": 18,
     "metadata": {},
     "output_type": "execute_result"
    }
   ],
   "source": [
    "11/2"
   ]
  },
  {
   "cell_type": "markdown",
   "id": "0f4af2bb",
   "metadata": {},
   "source": [
    "| S. No \t| Operator \t| Name \t| Type \t| Use \t| Examples \t|\n",
    "|---\t|---\t|---\t|---\t|---\t|---\t|\n",
    "| 1 \t| + \t| Addition \t| Binary \t| To add two operands \t| 10+20  a+b 3.5+4.5 \t|"
   ]
  },
  {
   "cell_type": "code",
   "execution_count": 17,
   "id": "d354964c",
   "metadata": {},
   "outputs": [
    {
     "name": "stdout",
     "output_type": "stream",
     "text": [
      "Available Themes: \n",
      "   chesterish\n",
      "   grade3\n",
      "   gruvboxd\n",
      "   gruvboxl\n",
      "   monokai\n",
      "   oceans16\n",
      "   onedork\n",
      "   solarizedd\n",
      "   solarizedl\n"
     ]
    }
   ],
   "source": [
    "!jt -l"
   ]
  },
  {
   "cell_type": "code",
   "execution_count": 18,
   "id": "1d228146",
   "metadata": {},
   "outputs": [],
   "source": [
    "!jt -t solarizedd"
   ]
  },
  {
   "cell_type": "code",
   "execution_count": null,
   "id": "6dc97bfb",
   "metadata": {},
   "outputs": [],
   "source": []
  },
  {
   "cell_type": "code",
   "execution_count": 51,
   "id": "6c5dbbf9",
   "metadata": {},
   "outputs": [
    {
     "name": "stdout",
     "output_type": "stream",
     "text": [
      "Enter something: groceries\n",
      "Enter something: more\n",
      "Enter something: yesterday\n",
      "I bought groceries from more on yesterday\n"
     ]
    }
   ],
   "source": [
    "what = input(\"Enter something: \") # groceries\n",
    "where = input(\"Enter something: \") # super market\n",
    "when = input(\"Enter something: \") # yesterday\n",
    "# print('I bought', what, 'from', where, 'on', when)\n",
    "# f string (formatted strings - literal string interpolation)\n",
    "print(f'I bought {what} from {where} on {when}')"
   ]
  },
  {
   "cell_type": "code",
   "execution_count": 28,
   "id": "0a0cd767",
   "metadata": {},
   "outputs": [
    {
     "name": "stdout",
     "output_type": "stream",
     "text": [
      "This is my first ever python program\n"
     ]
    }
   ],
   "source": [
    "print('This is my first ever python program')"
   ]
  },
  {
   "cell_type": "code",
   "execution_count": 30,
   "id": "4baa0cdd",
   "metadata": {},
   "outputs": [
    {
     "name": "stdout",
     "output_type": "stream",
     "text": [
      "This is my first ever python program\n"
     ]
    }
   ],
   "source": [
    "print('This is my first ever python program')"
   ]
  },
  {
   "cell_type": "markdown",
   "id": "3f0c749b",
   "metadata": {},
   "source": [
    "|S. No|Operator|Name|Type|Use|Examples|Results|\n",
    "|:-|:-|:-|:-|:-|:-|:-|\n",
    "|1|+|Addition|Binary|To add second operand to<br>the first operand|10+20<br>a+b<br>24.5+33.6|30<br>a+b<br>58.1\n"
   ]
  },
  {
   "cell_type": "code",
   "execution_count": 1,
   "id": "f61b9fb8",
   "metadata": {},
   "outputs": [
    {
     "name": "stdout",
     "output_type": "stream",
     "text": [
      "Defaulting to user installation because normal site-packages is not writeable\n",
      "Collecting yapf\n",
      "  Downloading yapf-0.32.0-py2.py3-none-any.whl (190 kB)\n",
      "     ------------------------------------ 190.2/190.2 kB 720.0 kB/s eta 0:00:00\n",
      "Installing collected packages: yapf\n",
      "Successfully installed yapf-0.32.0\n"
     ]
    }
   ],
   "source": [
    "# this is python example of codeprettifier\n",
    "a = 10\n",
    "b = 20\n",
    "c = a + b\n",
    "print(c)"
   ]
  },
  {
   "cell_type": "code",
   "execution_count": 2,
   "id": "0eb0f69c",
   "metadata": {
    "code_folding": [
     0
    ]
   },
   "outputs": [],
   "source": [
    "def gcd(a, b):\n",
    "    if not b:\n",
    "        return a\n",
    "    return gcd(b, a%b)"
   ]
  },
  {
   "cell_type": "markdown",
   "id": "3a4e73aa",
   "metadata": {},
   "source": []
  },
  {
   "cell_type": "code",
   "execution_count": 5,
   "id": "e64e58c5",
   "metadata": {},
   "outputs": [
    {
     "data": {
      "text/plain": [
       "'hellohellohellohellohello'"
      ]
     },
     "execution_count": 5,
     "metadata": {},
     "output_type": "execute_result"
    }
   ],
   "source": [
    "'hello' * 5"
   ]
  },
  {
   "cell_type": "code",
   "execution_count": 13,
   "id": "c07e7688",
   "metadata": {},
   "outputs": [
    {
     "name": "stdout",
     "output_type": "stream",
     "text": [
      "Enter your birth year: 1996\n",
      "You are 26 years old now\n"
     ]
    }
   ],
   "source": [
    "birth_year = int(input(\"Enter your birth year: \"))\n",
    "print(f'You are {2022 - birth_year} years old now')"
   ]
  },
  {
   "cell_type": "code",
   "execution_count": 14,
   "id": "1bcbba37",
   "metadata": {},
   "outputs": [
    {
     "name": "stdout",
     "output_type": "stream",
     "text": [
      "Enter your age: 26\n",
      "You are born in 1996\n"
     ]
    }
   ],
   "source": [
    "age = int(input(\"Enter your age: \"))\n",
    "print(f'You are born in {2022 - age}')"
   ]
  },
  {
   "cell_type": "code",
   "execution_count": 15,
   "id": "9401baeb",
   "metadata": {},
   "outputs": [
    {
     "name": "stdout",
     "output_type": "stream",
     "text": [
      "Enter your birth year: 1996\n",
      "You are 26 years old now\n"
     ]
    }
   ],
   "source": [
    "birth_year = int(input(\"Enter your birth year: \"))\n",
    "age = 2022 - birth_year\n",
    "print(f'You are {age} years old now')"
   ]
  },
  {
   "cell_type": "code",
   "execution_count": 16,
   "id": "303ab004",
   "metadata": {},
   "outputs": [
    {
     "name": "stdout",
     "output_type": "stream",
     "text": [
      "Enter your age: 26\n",
      "You are born in 1996\n"
     ]
    }
   ],
   "source": [
    "age = int(input(\"Enter your age: \"))\n",
    "birth_year = 2022 - age\n",
    "print(f'You are born in {birth_year}')"
   ]
  },
  {
   "cell_type": "code",
   "execution_count": 18,
   "id": "124ddf01",
   "metadata": {
    "scrolled": true
   },
   "outputs": [
    {
     "name": "stdout",
     "output_type": "stream",
     "text": [
      "1 2 3 4 5 6 7 8 9 10 11 12 13 14 15 16 17 18 19 20 21 22 23 24 25 26 27 28 29 30 31 32 33 34 35 36 37 38 39 40 41 42 43 44 45 46 47 48 49 50 51 52 53 54 55 56 57 58 59 60 61 62 63 64 65 66 67 68 69 70 71 72 73 74 75 76 77 78 79 80 81 82 83 84 85 86 87 88 89 90 91 92 93 94 95 96 97 98 99 "
     ]
    }
   ],
   "source": [
    "a = int(input())\n",
    "b = int(input())\n",
    "for i in range(a, b + 1):\n",
    "    print(i, end=' ')"
   ]
  },
  {
   "cell_type": "code",
   "execution_count": null,
   "id": "52c82fb1",
   "metadata": {},
   "outputs": [],
   "source": []
  },
  {
   "cell_type": "code",
   "execution_count": null,
   "id": "755f747c",
   "metadata": {},
   "outputs": [],
   "source": []
  },
  {
   "cell_type": "markdown",
   "id": "3bdbda03",
   "metadata": {},
   "source": [
    "### Keywords in Python\n",
    "\n",
    "* There are 35 keywords in Python (3.10.4)\n",
    "* Keywords can't be used as identifiers\n",
    "* Availabe keywords are <br><br>\n",
    "[`False`](https://www.w3schools.com/python/ref_keyword_and.asp)&emsp;[`await`](https://www.w3schools.com/python/ref_keyword_await.asp)&emsp;[`else`](https://www.w3schools.com/python/ref_keyword_else.asp)&emsp;`import`&emsp;`pass`<br><br>\n",
    "`None`&emsp; `break` &emsp;`except`&emsp;`in`&emsp;`raise`<br><br>\n",
    "`True`   `class`    `finally` `is`       `return` <br><br>\n",
    "`and`    `continue` `for`     `lambda`   `try` <br><br>\n",
    "`as`     `def`      `from`    `nonlocal` `while` <br><br>\n",
    "`assert` `del`      `global`  `not`      `with` <br><br>\n",
    "`async`  `elif`     `if`      `or`       `yield`\n",
    "\n"
   ]
  },
  {
   "cell_type": "markdown",
   "id": "da39aad8",
   "metadata": {},
   "source": [
    "Click [me](https://www.w3schools.com/python/ref_keyword_and.asp) for more information"
   ]
  },
  {
   "cell_type": "markdown",
   "id": "4664b434",
   "metadata": {},
   "source": [
    "`code` &emsp; `coder`"
   ]
  },
  {
   "cell_type": "code",
   "execution_count": 20,
   "id": "9f5a6de6",
   "metadata": {},
   "outputs": [
    {
     "ename": "SyntaxError",
     "evalue": "invalid syntax (1551882446.py, line 1)",
     "output_type": "error",
     "traceback": [
      "\u001b[1;36m  Input \u001b[1;32mIn [20]\u001b[1;36m\u001b[0m\n\u001b[1;33m    class = 10\u001b[0m\n\u001b[1;37m          ^\u001b[0m\n\u001b[1;31mSyntaxError\u001b[0m\u001b[1;31m:\u001b[0m invalid syntax\n"
     ]
    }
   ],
   "source": [
    "class = 10\n",
    "print(class)"
   ]
  },
  {
   "cell_type": "code",
   "execution_count": 21,
   "id": "fa1bf6a5",
   "metadata": {},
   "outputs": [
    {
     "ename": "SyntaxError",
     "evalue": "cannot assign to True (1011041714.py, line 1)",
     "output_type": "error",
     "traceback": [
      "\u001b[1;36m  Input \u001b[1;32mIn [21]\u001b[1;36m\u001b[0m\n\u001b[1;33m    True = 'hello'\u001b[0m\n\u001b[1;37m    ^\u001b[0m\n\u001b[1;31mSyntaxError\u001b[0m\u001b[1;31m:\u001b[0m cannot assign to True\n"
     ]
    }
   ],
   "source": [
    "True = 'hello'\n",
    "print(True)"
   ]
  },
  {
   "cell_type": "code",
   "execution_count": 22,
   "id": "eb0f9e14",
   "metadata": {},
   "outputs": [
    {
     "ename": "SyntaxError",
     "evalue": "invalid syntax (442291573.py, line 1)",
     "output_type": "error",
     "traceback": [
      "\u001b[1;36m  Input \u001b[1;32mIn [22]\u001b[1;36m\u001b[0m\n\u001b[1;33m    async = 12.2\u001b[0m\n\u001b[1;37m          ^\u001b[0m\n\u001b[1;31mSyntaxError\u001b[0m\u001b[1;31m:\u001b[0m invalid syntax\n"
     ]
    }
   ],
   "source": [
    "async = 12.2\n",
    "print(async)"
   ]
  },
  {
   "cell_type": "markdown",
   "id": "81bc2279",
   "metadata": {},
   "source": [
    "### Rules to name variables in Python\n",
    "- Variable name can be alphanumeric, but it should not contain any white spaces.\n",
    "- Variable name should not include any special character, other than underscore( _ )\n",
    "- We can underscore( _ ) itself as variable name\n",
    "- Variable name should not start with a digit, it can either start with an alphabet or can start with\n",
    "an underscore\n",
    "- Keywords or built_in functions can't be used as variable names\n",
    "- Variable name is case sensitive."
   ]
  },
  {
   "cell_type": "markdown",
   "id": "ce31a150",
   "metadata": {},
   "source": [
    "#### Can be alpha numeric, but should not contain any white spaces"
   ]
  },
  {
   "cell_type": "markdown",
   "id": "710b1696",
   "metadata": {},
   "source": [
    "<div class=\"alert alert-block alert-info\">\n",
    "    <b> Valid </b> </div>"
   ]
  },
  {
   "cell_type": "code",
   "execution_count": 24,
   "id": "dc939f28",
   "metadata": {},
   "outputs": [
    {
     "name": "stdout",
     "output_type": "stream",
     "text": [
      "John Smith\n"
     ]
    }
   ],
   "source": [
    "person1 = 'John'\n",
    "person2 = 'Smith'\n",
    "print(person1, person2)"
   ]
  },
  {
   "cell_type": "markdown",
   "id": "de4153f0",
   "metadata": {},
   "source": [
    "<div class=\"alert alert-block alert-danger\">\n",
    "    <b> Invalid </b> </div>"
   ]
  },
  {
   "cell_type": "code",
   "execution_count": 25,
   "id": "d022efd8",
   "metadata": {},
   "outputs": [
    {
     "ename": "SyntaxError",
     "evalue": "invalid syntax (370787694.py, line 2)",
     "output_type": "error",
     "traceback": [
      "\u001b[1;36m  Input \u001b[1;32mIn [25]\u001b[1;36m\u001b[0m\n\u001b[1;33m    person 1 = 'John'\u001b[0m\n\u001b[1;37m           ^\u001b[0m\n\u001b[1;31mSyntaxError\u001b[0m\u001b[1;31m:\u001b[0m invalid syntax\n"
     ]
    }
   ],
   "source": [
    "person 1 = 'John'\n",
    "person 2 = 'Smith'"
   ]
  },
  {
   "cell_type": "code",
   "execution_count": 26,
   "id": "4c45fa08",
   "metadata": {},
   "outputs": [
    {
     "name": "stdout",
     "output_type": "stream",
     "text": [
      "10\n"
     ]
    }
   ],
   "source": [
    "#Valid\n",
    "number1 = 10\n",
    "print(number1)"
   ]
  },
  {
   "cell_type": "markdown",
   "id": "08061d60",
   "metadata": {},
   "source": [
    "<div class=\"alert alert-block alert-danger\">\n",
    "    <b> Invalid </b> </div>"
   ]
  },
  {
   "cell_type": "code",
   "execution_count": 27,
   "id": "4ac14694",
   "metadata": {},
   "outputs": [
    {
     "ename": "SyntaxError",
     "evalue": "invalid syntax (495398919.py, line 2)",
     "output_type": "error",
     "traceback": [
      "\u001b[1;36m  Input \u001b[1;32mIn [27]\u001b[1;36m\u001b[0m\n\u001b[1;33m    number 1 = 10\u001b[0m\n\u001b[1;37m           ^\u001b[0m\n\u001b[1;31mSyntaxError\u001b[0m\u001b[1;31m:\u001b[0m invalid syntax\n"
     ]
    }
   ],
   "source": [
    "#Invalid\n",
    "number 1 = 10\n",
    "print(number 1)"
   ]
  },
  {
   "cell_type": "code",
   "execution_count": null,
   "id": "3d793f29",
   "metadata": {},
   "outputs": [],
   "source": []
  },
  {
   "cell_type": "markdown",
   "id": "4813b95b",
   "metadata": {},
   "source": [
    "#### Variable name should not include any special character, other than underscore( _ )"
   ]
  },
  {
   "cell_type": "code",
   "execution_count": 28,
   "id": "f4131eff",
   "metadata": {},
   "outputs": [
    {
     "name": "stdout",
     "output_type": "stream",
     "text": [
      "PowerStar\n"
     ]
    }
   ],
   "source": [
    "#Valid\n",
    "first_name = 'Power'\n",
    "last_name = 'Star'\n",
    "print(first_name + last_name)"
   ]
  },
  {
   "cell_type": "code",
   "execution_count": 29,
   "id": "dd0d3a2e",
   "metadata": {},
   "outputs": [
    {
     "name": "stdout",
     "output_type": "stream",
     "text": [
      "Yes it is\n"
     ]
    }
   ],
   "source": [
    "#Valid\n",
    "this_is_a_variable = 'Yes it is'\n",
    "print(this_is_a_variable)"
   ]
  },
  {
   "cell_type": "code",
   "execution_count": 30,
   "id": "a802be53",
   "metadata": {},
   "outputs": [
    {
     "ename": "SyntaxError",
     "evalue": "cannot assign to expression here. Maybe you meant '==' instead of '='? (3611007630.py, line 2)",
     "output_type": "error",
     "traceback": [
      "\u001b[1;36m  Input \u001b[1;32mIn [30]\u001b[1;36m\u001b[0m\n\u001b[1;33m    first-name = 'Power'\u001b[0m\n\u001b[1;37m    ^\u001b[0m\n\u001b[1;31mSyntaxError\u001b[0m\u001b[1;31m:\u001b[0m cannot assign to expression here. Maybe you meant '==' instead of '='?\n"
     ]
    }
   ],
   "source": [
    "#Invalid\n",
    "first-name = 'Power'\n",
    "last-name = 'Star'\n",
    "print(first-name + last-name)"
   ]
  },
  {
   "cell_type": "code",
   "execution_count": 31,
   "id": "98ea707c",
   "metadata": {},
   "outputs": [
    {
     "ename": "SyntaxError",
     "evalue": "invalid syntax (3883938445.py, line 2)",
     "output_type": "error",
     "traceback": [
      "\u001b[1;36m  Input \u001b[1;32mIn [31]\u001b[1;36m\u001b[0m\n\u001b[1;33m    this$is$a$variable = 'Yes it is'\u001b[0m\n\u001b[1;37m        ^\u001b[0m\n\u001b[1;31mSyntaxError\u001b[0m\u001b[1;31m:\u001b[0m invalid syntax\n"
     ]
    }
   ],
   "source": [
    "#Invalid\n",
    "this$is$a$variable = 'Yes it is'\n",
    "print(this$is$a$variable)"
   ]
  },
  {
   "cell_type": "markdown",
   "id": "232fad83",
   "metadata": {},
   "source": [
    "#### We can use underscore( _ ) itself as variable name"
   ]
  },
  {
   "cell_type": "code",
   "execution_count": 33,
   "id": "713472b1",
   "metadata": {},
   "outputs": [
    {
     "name": "stdout",
     "output_type": "stream",
     "text": [
      "10\n"
     ]
    }
   ],
   "source": [
    "#Valid\n",
    "_ = 10\n",
    "print(_)"
   ]
  },
  {
   "cell_type": "code",
   "execution_count": 34,
   "id": "61d0a1ba",
   "metadata": {},
   "outputs": [
    {
     "name": "stdout",
     "output_type": "stream",
     "text": [
      "12.5\n"
     ]
    }
   ],
   "source": [
    "#Valid\n",
    "___ = 12.5\n",
    "print(___)"
   ]
  },
  {
   "cell_type": "code",
   "execution_count": 35,
   "id": "eabe6ca0",
   "metadata": {},
   "outputs": [
    {
     "name": "stdout",
     "output_type": "stream",
     "text": [
      "Balayya\n"
     ]
    }
   ],
   "source": [
    "#Valid\n",
    "_first_person_ = 'Balayya'\n",
    "print(_first_person_)"
   ]
  },
  {
   "cell_type": "markdown",
   "id": "e0910fb4",
   "metadata": {},
   "source": [
    "#### Variable name should not start with a digit, it can either start with an alphabet or can start with an underscore"
   ]
  },
  {
   "cell_type": "code",
   "execution_count": 36,
   "id": "8c69c159",
   "metadata": {},
   "outputs": [
    {
     "name": "stdout",
     "output_type": "stream",
     "text": [
      "10\n",
      "20\n",
      "12.5\n"
     ]
    }
   ],
   "source": [
    "#Valid\n",
    "z = 10\n",
    "y1 = 20\n",
    "yyyzzz1 = 12.5\n",
    "print(z)\n",
    "print(y1)\n",
    "print(yyyzzz1)"
   ]
  },
  {
   "cell_type": "code",
   "execution_count": 37,
   "id": "b4bb3c28",
   "metadata": {},
   "outputs": [
    {
     "name": "stdout",
     "output_type": "stream",
     "text": [
      "Professor\n"
     ]
    }
   ],
   "source": [
    "#Valid\n",
    "person1 = 'Professor'\n",
    "print(person1)"
   ]
  },
  {
   "cell_type": "code",
   "execution_count": 38,
   "id": "1c176461",
   "metadata": {},
   "outputs": [
    {
     "ename": "SyntaxError",
     "evalue": "invalid decimal literal (670022688.py, line 2)",
     "output_type": "error",
     "traceback": [
      "\u001b[1;36m  Input \u001b[1;32mIn [38]\u001b[1;36m\u001b[0m\n\u001b[1;33m    1stperson = 'Professor'\u001b[0m\n\u001b[1;37m    ^\u001b[0m\n\u001b[1;31mSyntaxError\u001b[0m\u001b[1;31m:\u001b[0m invalid decimal literal\n"
     ]
    }
   ],
   "source": [
    "#Invalid\n",
    "1stperson = 'Professor'\n",
    "print(1stperson)"
   ]
  },
  {
   "cell_type": "markdown",
   "id": "92c3f506",
   "metadata": {},
   "source": [
    "<div class=\"alert alert-block alert-info\">\n",
    "<b>Tip:</b> Use blue boxes (alert-info) for tips and notes.</div>"
   ]
  },
  {
   "cell_type": "markdown",
   "id": "76a64128",
   "metadata": {},
   "source": [
    "<div class=\"alert alert-block alert-warning\">\n",
    "<b>Example:</b> Use yellow boxes for examples that are not inside code cells, or use for mathematical formulas if needed. Typically also used to display warning messages.\n",
    "</div>"
   ]
  },
  {
   "cell_type": "markdown",
   "id": "9fa03045",
   "metadata": {},
   "source": [
    "<div class=\"alert alert-block alert-success\">\n",
    "<b>Success:</b> This alert box indicates a successful or positive action.\n",
    "</div>"
   ]
  },
  {
   "cell_type": "markdown",
   "id": "8b4ee5bf",
   "metadata": {},
   "source": [
    "<div class=\"alert alert-block alert-danger\">\n",
    "<b>Danger:</b> This alert box indicates a dangerous or potentially negative action.\n",
    "</div>"
   ]
  },
  {
   "cell_type": "markdown",
   "id": "56f57e09",
   "metadata": {},
   "source": [
    "<div class=\"alert alert-block alert-info\"> <b> This is for your information </b></div>"
   ]
  },
  {
   "cell_type": "markdown",
   "id": "d5ce166b",
   "metadata": {},
   "source": [
    "<div class=\"alert alert-block alert-success\">\n",
    "    <b> Here are my profiles </b> <br><br>\n",
    "<nav>\n",
    "    <a href=\"https://www.linkedin.com\">LinkedIn</a> |\n",
    "    <a href=\"https://www.google.com\">Google</a> |\n",
    "    <a href=\"https://www.leetcode.com\">Leetcode</a> |\n",
    "</nav>\n",
    "</div>"
   ]
  },
  {
   "cell_type": "markdown",
   "id": "1ce5ca90",
   "metadata": {},
   "source": [
    "<nav>\n",
    "<a href=”https://www.google.com\">LinkedIn</a> |\n",
    "<a href=”/css/”>Github</a> |\n",
    "<a href=”/js/”>Medium</a> |\n",
    "</nav>"
   ]
  },
  {
   "cell_type": "markdown",
   "id": "3dc3c91f",
   "metadata": {},
   "source": [
    "\\begin{equation}\n",
    "  e^x = \\sum_{j=0}^{\\infty} \\frac{1}{j!} x^j\n",
    "\\end{equation}"
   ]
  },
  {
   "cell_type": "markdown",
   "id": "3a0a3bd5",
   "metadata": {},
   "source": [
    "<div class=\"alert alert-block alert-success\">\n",
    "    <b> Here are my profiles check them out </b> <br><br>\n",
    "    <nav>\n",
    "        <a href=\"https://leetcode.com/unstoppableforce\"> Leetcode </a> |\n",
    "        <a href=\"https://github.com/unstoppableforce96\"> Github </a> |\n",
    "        <a href=\"https://codeforces.com/profile/unstoppableforce\"> Codeforces </a> |\n",
    "        <a href=\"https://codechef.com/users/bpavan680\"> Codechef </a> |\n",
    "        <a href=\"https://hackerrank.com/unstoppableforce\"> Hackerrank </a>\n",
    "    </nav>\n",
    "</div>"
   ]
  },
  {
   "cell_type": "code",
   "execution_count": 44,
   "id": "4d200c83",
   "metadata": {},
   "outputs": [],
   "source": [
    "from sympy import *"
   ]
  },
  {
   "cell_type": "code",
   "execution_count": 45,
   "id": "d3cd57b8",
   "metadata": {},
   "outputs": [],
   "source": [
    "x = 15\n",
    "y = 15"
   ]
  },
  {
   "cell_type": "markdown",
   "id": "e40f3740",
   "metadata": {},
   "source": [
    "<table>\n",
    "  <tr>\n",
    "    <th>Header 1</th>\n",
    "    <th>Header 2</th>\n",
    "  </tr>\n",
    "  <tr>\n",
    "    <td>row 1, cell 1</td>\n",
    "    <td>row 1, cell 2</td>\n",
    "  </tr>\n",
    "  <tr>\n",
    "    <td>row 2, cell 1</td>\n",
    "    <td>row 2, cell 2</td>m\n",
    "  </tr>\n",
    "</table>"
   ]
  },
  {
   "cell_type": "code",
   "execution_count": 52,
   "id": "9f69e501",
   "metadata": {},
   "outputs": [
    {
     "ename": "NameError",
     "evalue": "name 'astropy' is not defined",
     "output_type": "error",
     "traceback": [
      "\u001b[1;31m---------------------------------------------------------------------------\u001b[0m",
      "\u001b[1;31mNameError\u001b[0m                                 Traceback (most recent call last)",
      "Input \u001b[1;32mIn [52]\u001b[0m, in \u001b[0;36m<cell line: 1>\u001b[1;34m()\u001b[0m\n\u001b[1;32m----> 1\u001b[0m \u001b[43mastropy\u001b[49m\u001b[38;5;241m.\u001b[39mconstants\u001b[38;5;241m.\u001b[39mL_sun\n",
      "\u001b[1;31mNameError\u001b[0m: name 'astropy' is not defined"
     ]
    }
   ],
   "source": [
    "astropy.constants.L_sun"
   ]
  },
  {
   "cell_type": "code",
   "execution_count": null,
   "id": "e6746463",
   "metadata": {},
   "outputs": [],
   "source": []
  },
  {
   "cell_type": "code",
   "execution_count": null,
   "id": "31079ded",
   "metadata": {},
   "outputs": [],
   "source": []
  },
  {
   "cell_type": "code",
   "execution_count": null,
   "id": "17a04d73",
   "metadata": {},
   "outputs": [],
   "source": []
  },
  {
   "cell_type": "code",
   "execution_count": null,
   "id": "f3df02a6",
   "metadata": {},
   "outputs": [],
   "source": []
  }
 ],
 "metadata": {
  "kernelspec": {
   "display_name": "Python 3 (ipykernel)",
   "language": "python",
   "name": "python3"
  },
  "language_info": {
   "codemirror_mode": {
    "name": "ipython",
    "version": 3
   },
   "file_extension": ".py",
   "mimetype": "text/x-python",
   "name": "python",
   "nbconvert_exporter": "python",
   "pygments_lexer": "ipython3",
   "version": "3.10.4"
  },
  "latex_envs": {
   "LaTeX_envs_menu_present": true,
   "autoclose": false,
   "autocomplete": true,
   "bibliofile": "biblio.bib",
   "cite_by": "apalike",
   "current_citInitial": 1,
   "eqLabelWithNumbers": true,
   "eqNumInitial": 1,
   "hotkeys": {
    "equation": "Ctrl-E",
    "itemize": "Ctrl-I"
   },
   "labels_anchors": false,
   "latex_user_defs": false,
   "report_style_numbering": false,
   "user_envs_cfg": false
  },
  "toc": {
   "base_numbering": 1,
   "nav_menu": {},
   "number_sections": true,
   "sideBar": true,
   "skip_h1_title": false,
   "title_cell": "Table of Contents",
   "title_sidebar": "Contents",
   "toc_cell": false,
   "toc_position": {
    "height": "47.71px",
    "left": "591px",
    "top": "175px",
    "width": "212px"
   },
   "toc_section_display": true,
   "toc_window_display": false
  }
 },
 "nbformat": 4,
 "nbformat_minor": 5
}
